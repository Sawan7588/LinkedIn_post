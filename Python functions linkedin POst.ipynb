{
 "cells": [
  {
   "cell_type": "code",
   "execution_count": null,
   "id": "c09a6929",
   "metadata": {},
   "outputs": [],
   "source": [
    "User-Defined Functions\n",
    "Built-in Functions\n",
    "Lambda Function\n",
    "Recursion Function\n"
   ]
  },
  {
   "cell_type": "code",
   "execution_count": 15,
   "id": "27658a2d",
   "metadata": {},
   "outputs": [
    {
     "name": "stdout",
     "output_type": "stream",
     "text": [
      "The sum is 30\n"
     ]
    }
   ],
   "source": [
    "## User defined\n",
    "\n",
    "#Functions that we define ourselves to do certain specific task are referred as user-defined functions\n",
    "\n",
    "#Example of a user-defined function\n",
    "\n",
    "\n",
    "def sum(x,y):\n",
    "   s = x * y\n",
    "   return s\n",
    "\n",
    "num1 = 5\n",
    "num2 = 6\n",
    "\n",
    "print(\"The sum is\",sum(num1, num2))\n"
   ]
  },
  {
   "cell_type": "code",
   "execution_count": null,
   "id": "c1038371",
   "metadata": {},
   "outputs": [],
   "source": [
    "## Lambda Function\n",
    "\n",
    "In Python, an anonymous function is a function that is defined without a name.\n",
    "\n",
    "While normal functions are defined using the def keyword in Python, anonymous functions are defined using the lambda keyword."
   ]
  },
  {
   "cell_type": "code",
   "execution_count": 13,
   "id": "f4b15732",
   "metadata": {},
   "outputs": [
    {
     "name": "stdout",
     "output_type": "stream",
     "text": [
      "10\n"
     ]
    }
   ],
   "source": [
    "f = lambda x: x * 2\n",
    "print(f(5))"
   ]
  },
  {
   "cell_type": "code",
   "execution_count": null,
   "id": "f93ad842",
   "metadata": {},
   "outputs": [],
   "source": [
    "Built-in Functions\n",
    "\n",
    "Python has several functions that are readily available for use. These functions are called built-in functions.\n",
    "\n",
    "bool()\n",
    "Converts a Value to Boolean\n",
    "\n",
    "complex()\n",
    "Creates a Complex Number\n",
    "\n",
    "len()\n",
    "Returns Length of an Object\n",
    "\n",
    "range()\n",
    "returns a sequence of integers"
   ]
  },
  {
   "cell_type": "code",
   "execution_count": 16,
   "id": "df9a8c0a",
   "metadata": {},
   "outputs": [
    {
     "name": "stdout",
     "output_type": "stream",
     "text": [
      "The fact of 3 is 6\n"
     ]
    }
   ],
   "source": [
    "#Recursion Function\n",
    "\n",
    "#Recursion is the process of defining something in terms of itself, Function to call itself in Python is called recursive functions\n",
    "\n",
    "def fact(x):\n",
    "   \n",
    "    if x == 1:\n",
    "        return 1\n",
    "    else:\n",
    "        return (x * fact(x-1))\n",
    "\n",
    "num = 3\n",
    "print(\"The fact of\", num, \"is\", fact(num))"
   ]
  },
  {
   "cell_type": "code",
   "execution_count": null,
   "id": "eae1901f",
   "metadata": {},
   "outputs": [],
   "source": [
    "Function\n",
    "\n",
    "A function is a block of reusable code that is used to perform a specific action. The advantages of using functions are:\n",
    "\n",
    "Reducing duplication of code\n",
    "Decomposing complex problems into simpler pieces\n",
    "Improving clarity of the code\n",
    "Reuse of code\n",
    "Information hiding"
   ]
  }
 ],
 "metadata": {
  "kernelspec": {
   "display_name": "Python 3 (ipykernel)",
   "language": "python",
   "name": "python3"
  },
  "language_info": {
   "codemirror_mode": {
    "name": "ipython",
    "version": 3
   },
   "file_extension": ".py",
   "mimetype": "text/x-python",
   "name": "python",
   "nbconvert_exporter": "python",
   "pygments_lexer": "ipython3",
   "version": "3.9.12"
  }
 },
 "nbformat": 4,
 "nbformat_minor": 5
}
