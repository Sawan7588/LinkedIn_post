{
 "cells": [
  {
   "cell_type": "code",
   "execution_count": null,
   "id": "0d9cc0f7",
   "metadata": {
    "scrolled": true
   },
   "outputs": [],
   "source": [
    "type() function :- it returns the class type of an object."
   ]
  },
  {
   "cell_type": "code",
   "execution_count": null,
   "id": "9cff708d",
   "metadata": {
    "scrolled": true
   },
   "outputs": [],
   "source": [
    "List = [1,2,3,4,5]\n",
    "type(List)"
   ]
  },
  {
   "cell_type": "code",
   "execution_count": null,
   "id": "29dc790a",
   "metadata": {
    "scrolled": true
   },
   "outputs": [],
   "source": [
    "append() :- will add some elements you enter to the end of the elements you specified."
   ]
  },
  {
   "cell_type": "code",
   "execution_count": 20,
   "id": "07bb2619",
   "metadata": {
    "scrolled": true
   },
   "outputs": [
    {
     "name": "stdout",
     "output_type": "stream",
     "text": [
      "['Monday', 'Tuesday', 'Wednesday', 'Thursday']\n"
     ]
    }
   ],
   "source": [
    "List = ['Monday', 'Tuesday','Wednesday']\n",
    "List.append('Thursday')\n",
    "print(List)"
   ]
  },
  {
   "cell_type": "code",
   "execution_count": null,
   "id": "e94a6062",
   "metadata": {
    "scrolled": true
   },
   "outputs": [],
   "source": [
    "extend():- increases the length of the list by the number of elements that are provided to the strategy."
   ]
  },
  {
   "cell_type": "code",
   "execution_count": 21,
   "id": "4f9df9cb",
   "metadata": {
    "scrolled": true
   },
   "outputs": [
    {
     "data": {
      "text/plain": [
       "[10, 20, 30, 40, 50]"
      ]
     },
     "execution_count": 21,
     "metadata": {},
     "output_type": "execute_result"
    }
   ],
   "source": [
    "List = [10,20,30]\n",
    "List.extend([40,50])\n",
    "List"
   ]
  },
  {
   "cell_type": "code",
   "execution_count": null,
   "id": "6d035c64",
   "metadata": {
    "scrolled": true
   },
   "outputs": [],
   "source": [
    "index() :- returns the primary position of the required value."
   ]
  },
  {
   "cell_type": "code",
   "execution_count": 26,
   "id": "168a5349",
   "metadata": {
    "scrolled": true
   },
   "outputs": [
    {
     "name": "stdout",
     "output_type": "stream",
     "text": [
      "index of Wednesday :- 2\n"
     ]
    }
   ],
   "source": [
    "List = ['Monday', 'Tuesday', 'Wednesday', 'Thursday']\n",
    "print(\"index of Wednesday :-\",List.index('Wednesday'))"
   ]
  },
  {
   "cell_type": "code",
   "execution_count": null,
   "id": "a5f9061c",
   "metadata": {
    "scrolled": true
   },
   "outputs": [],
   "source": [
    "max() :- function will return the highest value from the inputted list.\n"
   ]
  },
  {
   "cell_type": "code",
   "execution_count": null,
   "id": "63b4cb70",
   "metadata": {
    "scrolled": true
   },
   "outputs": [],
   "source": [
    "List = [10, 20, 30, 40, 50, 77, 95]\n",
    "print(max(List))"
   ]
  },
  {
   "cell_type": "code",
   "execution_count": null,
   "id": "564d9ec5",
   "metadata": {
    "scrolled": true
   },
   "outputs": [],
   "source": [
    "len():- function returns the number of elements in a specified list."
   ]
  },
  {
   "cell_type": "code",
   "execution_count": 22,
   "id": "7ad0b391",
   "metadata": {
    "scrolled": true
   },
   "outputs": [
    {
     "name": "stdout",
     "output_type": "stream",
     "text": [
      "Length of list :- 7\n"
     ]
    }
   ],
   "source": [
    "List = [10, 20, 30, 40, 50, 77, 95]\n",
    "print(\"Length of list :-\", len(List))"
   ]
  },
  {
   "cell_type": "code",
   "execution_count": null,
   "id": "fe69f370",
   "metadata": {
    "scrolled": true
   },
   "outputs": [],
   "source": [
    "insert() :-  inserts the required value at the desired position."
   ]
  },
  {
   "cell_type": "code",
   "execution_count": 27,
   "id": "0215aaa6",
   "metadata": {
    "scrolled": true
   },
   "outputs": [
    {
     "data": {
      "text/plain": [
       "['A', 'B', 'C', 'D', 'E', 'F']"
      ]
     },
     "execution_count": 27,
     "metadata": {},
     "output_type": "execute_result"
    }
   ],
   "source": [
    "List = ['A', 'B', 'C', 'E', 'F']\n",
    "List.insert(3,'D')\n",
    "List"
   ]
  },
  {
   "cell_type": "code",
   "execution_count": null,
   "id": "c5ce8835",
   "metadata": {
    "scrolled": true
   },
   "outputs": [],
   "source": [
    "count() :- returns the number of elements with the desired value."
   ]
  },
  {
   "cell_type": "code",
   "execution_count": 33,
   "id": "3c96c867",
   "metadata": {
    "scrolled": true
   },
   "outputs": [
    {
     "name": "stdout",
     "output_type": "stream",
     "text": [
      "4\n"
     ]
    }
   ],
   "source": [
    "List = ['A', 'B', 'C','A', 'D', 'A', 'E', 'F','A']\n",
    "print(List.count('A'))"
   ]
  },
  {
   "cell_type": "code",
   "execution_count": null,
   "id": "8b253170",
   "metadata": {
    "scrolled": true
   },
   "outputs": [],
   "source": [
    "pop() :- removes the element at the required position"
   ]
  },
  {
   "cell_type": "code",
   "execution_count": 29,
   "id": "ab95f8a0",
   "metadata": {
    "scrolled": true
   },
   "outputs": [
    {
     "name": "stdout",
     "output_type": "stream",
     "text": [
      "['Monday', 'Tuesday', 'Wednesday']\n"
     ]
    }
   ],
   "source": [
    "List = ['Monday', 'Tuesday', 'Wednesday', 'Thursday']\n",
    "List.pop(3)\n",
    "print(List)"
   ]
  },
  {
   "cell_type": "code",
   "execution_count": null,
   "id": "5f4d168c",
   "metadata": {
    "scrolled": true
   },
   "outputs": [],
   "source": [
    "remove() :- removes the first occurrence of the element with the specified value"
   ]
  },
  {
   "cell_type": "code",
   "execution_count": 31,
   "id": "b3c8e7c2",
   "metadata": {
    "scrolled": true
   },
   "outputs": [
    {
     "data": {
      "text/plain": [
       "['B', 'C', 'D', 'A', 'E', 'A']"
      ]
     },
     "execution_count": 31,
     "metadata": {},
     "output_type": "execute_result"
    }
   ],
   "source": [
    "List = ['A','B', 'C', 'D','A','E','A']\n",
    "List.remove('A')\n",
    "List"
   ]
  },
  {
   "cell_type": "code",
   "execution_count": null,
   "id": "d4822fef",
   "metadata": {
    "scrolled": true
   },
   "outputs": [],
   "source": [
    "reverse() :-  reverses the order of the elements."
   ]
  },
  {
   "cell_type": "code",
   "execution_count": 32,
   "id": "3d4227cc",
   "metadata": {},
   "outputs": [
    {
     "data": {
      "text/plain": [
       "[50, 40, 30, 20, 10]"
      ]
     },
     "execution_count": 32,
     "metadata": {},
     "output_type": "execute_result"
    }
   ],
   "source": [
    "List = [10, 20, 30, 40, 50]\n",
    "List.reverse()\n",
    "List"
   ]
  },
  {
   "cell_type": "code",
   "execution_count": null,
   "id": "455c0b47",
   "metadata": {},
   "outputs": [],
   "source": []
  }
 ],
 "metadata": {
  "kernelspec": {
   "display_name": "Python 3 (ipykernel)",
   "language": "python",
   "name": "python3"
  },
  "language_info": {
   "codemirror_mode": {
    "name": "ipython",
    "version": 3
   },
   "file_extension": ".py",
   "mimetype": "text/x-python",
   "name": "python",
   "nbconvert_exporter": "python",
   "pygments_lexer": "ipython3",
   "version": "3.9.12"
  }
 },
 "nbformat": 4,
 "nbformat_minor": 5
}
